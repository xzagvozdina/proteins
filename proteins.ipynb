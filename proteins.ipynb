{
 "cells": [
  {
   "cell_type": "code",
   "execution_count": 1,
   "metadata": {},
   "outputs": [],
   "source": [
    "import numpy as np\n",
    "import matplotlib.pyplot as plt\n",
    "\n",
    "def generate_saws(path, L, cache):\n",
    "    \"\"\" Генерация случайных блужданий заданной дины без самопересечений \"\"\"\n",
    "    steps = [(1, 0, 0), (-1, 0, 0), (0, 1, 0), (0, -1, 0), (0, 0, 1), (0, 0, -1)]\n",
    "    #\n",
    "    if L == 0:\n",
    "        cache.append(path)\n",
    "    else:\n",
    "        for dx, dy, dz in steps:\n",
    "            x, y, z = path[-1]\n",
    "            \n",
    "            xyz_new = (x + dx, y + dy, z + dz)\n",
    "            flag = True\n",
    "            #\n",
    "            for i in path:\n",
    "                if xyz_new == i:\n",
    "                    flag = False\n",
    "                    break\n",
    "            #\n",
    "            if flag: \n",
    "                pp = path.copy()\n",
    "                pp.append(xyz_new)\n",
    "                generate_saws(pp, L - 1, cache)\n",
    "\n",
    "                \n",
    "def dist3D_2(point1, point2=(0, 0, 0)):\n",
    "    \"\"\" Квадрат евклидова расстояния между двумя точками в 3D \"\"\"\n",
    "    x1, y1, z1 = point1\n",
    "    x2, y2, z2 = point2\n",
    "    #     \n",
    "    return (x1-x2)**2 + (y1-y2)**2 + (z1-z2)**2\n",
    "\n",
    "\n",
    "def minus3D(point1, point2):\n",
    "    \"\"\" Вектор разницы между двумя веторами в 3D \"\"\"\n",
    "    x1, y1, z1 = point1\n",
    "    x2, y2, z2 = point2\n",
    "    #     \n",
    "    return (x2-x1, y2-y1, z2-z1)\n",
    "\n",
    "\n",
    "def topological_n(path, point_number):\n",
    "    \"\"\" Топологические соседи заданной точки блуждания \"\"\"\n",
    "    tops = []\n",
    "    point = path[point_number]\n",
    "    #     \n",
    "    for cur_point in path:\n",
    "        d = dist3D_2(point, cur_point)\n",
    "        if d <= 1. and d >= 1e-3:\n",
    "            tops.append(path.index(cur_point))\n",
    "    #     \n",
    "    return tops\n",
    "\n",
    "\n",
    "def HP_seqs(k):\n",
    "    \"\"\" Генерация всех HP-последовательностей заданной длины \"\"\"\n",
    "    seqs = []\n",
    "    #     \n",
    "    for i in range(2**(k+1)):\n",
    "        cur_seq = [ int(x) for x in bin(i)[2:].zfill(k+1) ]\n",
    "        if list(reversed(cur_seq)) not in seqs:\n",
    "            seqs.append(cur_seq)\n",
    "    # \n",
    "    return sorted(seqs, key=lambda arr: -sum(arr))\n",
    "\n",
    "\n",
    "def Ising_seqs(k):\n",
    "    seqs = []\n",
    "    #     \n",
    "    for i in range(2**(k+1)):\n",
    "        cur_seq = [ int(x) for x in bin(i)[2:].zfill(k+1) ]\n",
    "        if list(reversed(cur_seq)) not in seqs:\n",
    "            seqs.append(cur_seq)\n",
    "    #\n",
    "    seqs = sorted(seqs, key=lambda arr: -sum(arr))\n",
    "    #\n",
    "    for seq in seqs:\n",
    "        for i in range(k+1):\n",
    "            if seq[i] == 0:\n",
    "                seq[i] = -1\n",
    "    return seqs\n",
    "\n",
    "\n",
    "def HP_energy(path, seq):\n",
    "    \"\"\" Количество топологических соседей HH заданной конформации \"\"\"\n",
    "    cnt = 0\n",
    "    #     \n",
    "    for point_number in range(len(path)):\n",
    "        cur_tops = topological_n(path, point_number)\n",
    "        #\n",
    "        for i_neigh in cur_tops:\n",
    "            cnt+=seq[point_number]*seq[i_neigh]\n",
    "    #     \n",
    "    return int(cnt/2.)\n",
    "\n",
    "\n",
    "def Ising_energy(path, seq):\n",
    "    \"\"\" Количество топологических соседей HH заданной конформации \"\"\"\n",
    "    cnt = 0\n",
    "    #     \n",
    "    for point_number in range(len(path)):\n",
    "        cur_tops = topological_n(path, point_number)\n",
    "        #\n",
    "        for i_neigh in cur_tops:\n",
    "            cnt += seq[point_number]*seq[i_neigh]\n",
    "    #     \n",
    "    return int(cnt/2.)\n",
    "\n",
    "\n",
    "def Phi(seq):\n",
    "    \"\"\" Доля H-элементов в последовательности \"\"\"\n",
    "    return sum(seq)/len(seq)\n",
    "\n",
    "\n",
    "def R2_plot(max_n):\n",
    "    \"\"\" График зависимости среднего квадрата расстояния между началом и концом блуждания от его длины \"\"\"\n",
    "    R2 = []\n",
    "    # \n",
    "    for i in range(max_n):\n",
    "        cache = []\n",
    "        generate_saws([(0, 0, 0)], i+1, cache)\n",
    "        r2_cur = 0\n",
    "        # \n",
    "        for path in cache:\n",
    "            r2_cur += dist3D_2(path[-1], path[0])\n",
    "        # \n",
    "        r2_cur /= len(cache)\n",
    "        R2.append(r2_cur)\n",
    "    # \n",
    "    plt.plot([i+1 for i in range(max_n)], R2, 'ro')\n",
    "\n",
    "    \n",
    "def R2_plot_with_T(min_n, max_n, T_coef = 1., model = 'HP'):\n",
    "    \"\"\" График зависимости среднего квадрата расстояния между началом и концом блуждания от его длины\n",
    "        (температура < \\inf) \"\"\"\n",
    "    R2 = []\n",
    "    \n",
    "    if model == 'HP':\n",
    "        energy = HP_energy\n",
    "        gen_seq = HP_seqs\n",
    "    else:\n",
    "        energy = Ising_energy\n",
    "        gen_seq = Ising_seqs\n",
    "    # \n",
    "    for i in range(min_n, max_n):\n",
    "        cache = []\n",
    "        generate_saws([(0, 0, 0)], i+1, cache)\n",
    "        r2_cur = 0\n",
    "        seqs = gen_seq(i+1)\n",
    "        part_func = 0\n",
    "        # \n",
    "        for path in cache:\n",
    "            for seq in seqs:\n",
    "                part_func += np.exp(-energy(path, seq)*T_coef)\n",
    "                r2_cur += dist3D_2(path[-1], path[0])*np.exp(-energy(path, seq)*T_coef)\n",
    "        #\n",
    "        R2.append(r2_cur/part_func)\n",
    "        print(R2[-1])\n",
    "    #\n",
    "    print(' that is all ')\n",
    "    # \n",
    "#     plt.plot([i+1 for i in range(max_n)], R2, 'bo')\n",
    "    return R2\n",
    "    \n",
    "    \n",
    "def Rg2_plot(max_n):\n",
    "    \"\"\" График зависимости среднего квадрата радиуса инерции блуждания от его длины \"\"\"\n",
    "    Rg2 = []\n",
    "    # \n",
    "    for i in range(max_n):\n",
    "        cache = []\n",
    "        generate_saws([(0, 0, 0)], i+1, cache)\n",
    "        rg2_cur = 0\n",
    "        seqs = HP_seqs(i+1)\n",
    "        # \n",
    "        for path in cache:\n",
    "            for r_i in path:\n",
    "                for r_j in path:\n",
    "                    rg2_cur += dist3D_2(minus3D(r_i, r_j))\n",
    "        #         \n",
    "        rg2_cur /= 2.*len(cache)*(i+2)**2\n",
    "        Rg2.append(rg2_cur)\n",
    "    # \n",
    "#     plt.plot([i+1 for i in range(max_n)], Rg2, 'ro')\n",
    "    return Rg2\n",
    "    \n",
    "    \n",
    "def Rg2_plot_with_T(min_n, max_n, T_coef = 1., model = 'HP'):\n",
    "    \"\"\" График зависимости среднего квадрата радиуса инерции блуждания от его длины \n",
    "        (температура < \\inf) \"\"\"\n",
    "    Rg2 = []\n",
    "    # \n",
    "    if model == 'HP':\n",
    "        energy = HP_energy\n",
    "        gen_seq = HP_seqs\n",
    "    else:\n",
    "        energy = Ising_energy\n",
    "        gen_seq = Ising_seqs\n",
    "        \n",
    "    for i in range(min_n, max_n):\n",
    "        cache = []\n",
    "        generate_saws([(0, 0, 0)], i+1, cache)\n",
    "        rg2_cur = 0\n",
    "        seqs = gen_seq(i+1)\n",
    "        part_func = 0\n",
    "        # \n",
    "        for path in cache:\n",
    "            for seq in seqs:\n",
    "                part_func += np.exp(-energy(path, seq)*T_coef)\n",
    "                for r_i in path:\n",
    "                    for r_j in path:\n",
    "                        rg2_cur += dist3D_2(minus3D(r_i, r_j))*np.exp(-energy(path, seq)*T_coef)\n",
    "        #    \n",
    "        Rg2.append(rg2_cur/(part_func * 2. * (i+2)**2))\n",
    "        print(Rg2[-1])\n",
    "    #\n",
    "    print(' that is all ')\n",
    "    # \n",
    "#     plt.plot([i+1 for i in range(max_n)], Rg2, 'ro')\n",
    "    return Rg2"
   ]
  },
  {
   "cell_type": "code",
   "execution_count": 2,
   "metadata": {},
   "outputs": [],
   "source": [
    "cache = []\n",
    "generate_saws([(0,0,0)], 10, cache)\n",
    "# len(HP_seqs(10))*len(cache)\n",
    "# 9303231168"
   ]
  },
  {
   "cell_type": "code",
   "execution_count": 3,
   "metadata": {},
   "outputs": [
    {
     "data": {
      "text/plain": [
       "8809878"
      ]
     },
     "execution_count": 3,
     "metadata": {},
     "output_type": "execute_result"
    }
   ],
   "source": [
    "len(cache)"
   ]
  },
  {
   "cell_type": "code",
   "execution_count": 2,
   "metadata": {},
   "outputs": [
    {
     "data": {
      "text/plain": [
       "[0.25, 0.4888888888888889, 0.73, 0.9897520661157024]"
      ]
     },
     "execution_count": 2,
     "metadata": {},
     "output_type": "execute_result"
    }
   ],
   "source": [
    "Rg2_plot(4)"
   ]
  },
  {
   "cell_type": "code",
   "execution_count": 4,
   "metadata": {},
   "outputs": [],
   "source": [
    "# как учитывать массы для радиуса инерции?\n",
    "\n",
    "# какие ещё задания были?"
   ]
  },
  {
   "cell_type": "code",
   "execution_count": null,
   "metadata": {},
   "outputs": [],
   "source": [
    "# R2_Ising = R2_plot_with_T(7, 10, T_coef = 0.5, model = 'Ising')\n",
    "# R2_HP = R2_plot_with_T(10)\n",
    "# Rg2_Ising = Rg2_plot_with_T(6, 8, model = 'Ising')\n",
    "# Rg2_HP = Rg2_plot_with_T(10)\n",
    "\n",
    "# T_coef = 1.\n",
    "# R2_Ising = [1.0, 2.3999999999999977, 3.511723972983972, 4.773303742484766,\n",
    "#             5.82303087859332, 6.709155638691144, 7.670119842160697]\n",
    "# R2_HP = [1.0, 2.3999999999999995, 3.947195130432813, 5.6127156925494175, \n",
    "#          7.399642119535047, 9.255976733884564, 11.201481946650954]\n",
    "# Rg2_Ising = [0.24999999999999992, 0.4888888888888894, 0.7005890672868395, 0.920813624235019, \n",
    "#              1.1285588957177852, 1.3029658107710114]\n",
    "# Rg2_HP = [0.25000000000000006, 0.4888888888888888, 0.7353662777776907, 0.9949635729500705, \n",
    "#           1.269828267999719]\n",
    "\n",
    "R2_HP = R2_plot_with_T(7, 10, T_coef = 0.5)\n",
    "# T_coef = 0.5\n",
    "# R2_Ising = [2.399999999999999, 3.8352126298583924, 5.348788211275434, 6.997772366170236,\n",
    "#            8.52533345444821, 10.320452121029538, 11.870886743329194]\n",
    "# R2_HP = [2.4000000000000004, 3.9254719886055836, 5.6051967210940115, 7.361471067564311, \n",
    "#          9.22544622605394, 11.139718119552922, ]\n",
    "# Rg2_Ising = []\n",
    "# Rg2_HP = []"
   ]
  },
  {
   "cell_type": "code",
   "execution_count": null,
   "metadata": {},
   "outputs": [],
   "source": [
    "np.asarray(Rg2_plot_with_T(5, model = 'Ising'))-np.asarray(Rg2_plot_with_T(5))"
   ]
  },
  {
   "cell_type": "code",
   "execution_count": null,
   "metadata": {},
   "outputs": [],
   "source": [
    "np.asarray(Rg2_plot_with_T(6))-np.asarray(Rg2_plot(6))"
   ]
  },
  {
   "cell_type": "code",
   "execution_count": 7,
   "metadata": {
    "scrolled": true
   },
   "outputs": [
    {
     "data": {
      "image/png": "[encoded data removed]",
      "text/plain": [
       "<Figure size 432x288 with 1 Axes>"
      ]
     },
     "metadata": {
      "needs_background": "light"
     },
     "output_type": "display_data"
    }
   ],
   "source": [
    "Rg2_plot(2)"
   ]
  },
  {
   "cell_type": "code",
   "execution_count": null,
   "metadata": {},
   "outputs": [],
   "source": []
  },
  {
   "cell_type": "code",
   "execution_count": null,
   "metadata": {},
   "outputs": [],
   "source": []
  },
  {
   "cell_type": "code",
   "execution_count": null,
   "metadata": {},
   "outputs": [],
   "source": []
  },
  {
   "cell_type": "code",
   "execution_count": 2,
   "metadata": {
    "scrolled": true
   },
   "outputs": [],
   "source": [
    "cache = []\n",
    "generate_saws([(0, 0, 0)], 4, cache)\n",
    "# print(cache)\n",
    "# HP_seqs(4)\n",
    "# for path in cache:\n",
    "#     topological_n(path, 1)"
   ]
  },
  {
   "cell_type": "code",
   "execution_count": 12,
   "metadata": {},
   "outputs": [
    {
     "data": {
      "image/png": "[encoded data removed]",
      "text/plain": [
       "<Figure size 432x288 with 1 Axes>"
      ]
     },
     "metadata": {
      "needs_background": "light"
     },
     "output_type": "display_data"
    }
   ],
   "source": [
    "R2_plot(3)"
   ]
  },
  {
   "cell_type": "code",
   "execution_count": 4,
   "metadata": {},
   "outputs": [
    {
     "data": {
      "image/png": "[encoded data removed]",
      "text/plain": [
       "<Figure size 432x288 with 1 Axes>"
      ]
     },
     "metadata": {
      "needs_background": "light"
     },
     "output_type": "display_data"
    }
   ],
   "source": [
    "Rg2_plot(7)"
   ]
  },
  {
   "cell_type": "code",
   "execution_count": null,
   "metadata": {},
   "outputs": [],
   "source": [
    "R2g = []\n",
    "\n",
    "hp_seqs = HP_seqs(5)"
   ]
  },
  {
   "cell_type": "code",
   "execution_count": 39,
   "metadata": {
    "scrolled": true
   },
   "outputs": [
    {
     "data": {
      "text/plain": [
       "[<matplotlib.lines.Line2D at 0x1bfc8bd73c8>]"
      ]
     },
     "execution_count": 39,
     "metadata": {},
     "output_type": "execute_result"
    },
    {
     "data": {
      "image/png": "[encoded data removed]",
      "text/plain": [
       "<Figure size 432x288 with 1 Axes>"
      ]
     },
     "metadata": {
      "needs_background": "light"
     },
     "output_type": "display_data"
    }
   ],
   "source": [
    "plt.plot([i for i in range(len(HP_seqs(10)))], [Phi(seq) for seq in HP_seqs(10)])"
   ]
  },
  {
   "cell_type": "code",
   "execution_count": null,
   "metadata": {},
   "outputs": [],
   "source": [
    "import matplotlib as mpl\n",
    "from mpl_toolkits.mplot3d import Axes3D\n",
    "import numpy as np\n",
    "import matplotlib.pyplot as plt\n",
    "import random as rand\n",
    "\n",
    "cache = []\n",
    "generate_saws([(0,0,0)], 10, cache)\n",
    "\n",
    "rand.seed(42)\n",
    "\n",
    "rand_walk = cache[rand.randint(0, len(cache))]\n",
    "x = []\n",
    "y = []\n",
    "z = []\n",
    "for x_dot, y_dot, z_dot in rand_walk:\n",
    "    x.append(x_dot)\n",
    "    y.append(y_dot)\n",
    "    z.append(z_dot)\n",
    "fig = plt.figure(figsize=(10.,10.))\n",
    "ax = fig.gca(projection='3d')\n",
    "ax.plot(np.asarray(x), np.asarray(y), np.asarray(z))\n",
    "\n",
    "ax.scatter(np.asarray(x[0:-1]), np.asarray(y[0:-1]), np.asarray(z[0:-1]), color=\"b\", s=20)\n",
    "ax.scatter(np.asarray(x[-1]), np.asarray(y[-1]), np.asarray(z[-1]), color=\"r\", s=30)\n",
    "\n",
    "u, v = np.mgrid[0.5*np.pi:np.pi:20j, 0.:0.5*np.pi:20j]\n",
    "R = dist3D_2(rand_walk[-1], rand_walk[0])**0.5\n",
    "x_R = R*np.cos(u)*np.sin(v)\n",
    "y_R = R*np.sin(u)*np.sin(v)\n",
    "z_R = R*np.cos(v)\n",
    "ax.plot_surface(x_R, y_R, z_R, alpha=0.3, color=\"r\")\n",
    "\n",
    "Rg2 = 0\n",
    "for r_i in rand_walk:\n",
    "    for r_j in rand_walk:\n",
    "        Rg2 += dist3D_2(minus3D(r_i, r_j))\n",
    "Rg2 /= 2.*11.*11.\n",
    "Rg = Rg2**0.5\n",
    "x_R = Rg*np.cos(u)*np.sin(v)\n",
    "y_R = Rg*np.sin(u)*np.sin(v)\n",
    "z_R = Rg*np.cos(v)\n",
    "ax.plot_surface(x_R, y_R, z_R, alpha=0.3, color=\"r\")\n",
    "# ax.plot_wireframe(x_R, y_R, z_R, color=\"r\")\n",
    "\n",
    "ax.view_init(30, 120)\n",
    "plt.savefig(\"plot.png\")\n",
    "plt.show()"
   ]
  }
 ],
 "metadata": {
  "kernelspec": {
   "display_name": "Python 3",
   "language": "python",
   "name": "python3"
  },
  "language_info": {
   "codemirror_mode": {
    "name": "ipython",
    "version": 3
   },
   "file_extension": ".py",
   "mimetype": "text/x-python",
   "name": "python",
   "nbconvert_exporter": "python",
   "pygments_lexer": "ipython3",
   "version": "3.7.0"
  }
 },
 "nbformat": 4,
 "nbformat_minor": 2
}
